{
 "cells": [
  {
   "cell_type": "markdown",
   "metadata": {},
   "source": [
    "# Debugging Python code 🐛💻🐍\n",
    "Created by [Ryan Parker](https://github.com/rparkr).  \n",
    "Aug 2023\n",
    "\n",
    "This notebook is used to demonstrate different methods for debugging Python code. It covers live debugging, rather than logging for code monitoring and asynchronous debugging.\n",
    "\n",
    "Each of the sections below has some code with a bug; we'll use different debugging techniques to find and fix the bugs.\n",
    "\n",
    "## Types of errors\n",
    "Programmers encounter two main types of errors: _syntax_ errors and _runtime_ errors.\n",
    "\n",
    "Syntax errors deal with code that cannot be understood by the Python interpreter: for example, referring to a packages that was not imported, not indenting a `for` block, or forgetting to put a colon after a function definition (`def` statement). Syntax errors can usually be identified ahead of time by a linter, otherwise, they are easy to identify based on the error message Python produces when the interpreter runs into code it does not understand. \n",
    "\n",
    "Runtime errors deal with code that is correct Python but either incorrect for the particular statement being executed (in which case an `Exception` is raised detailing the error) or else code that uses incorrect logic (no `Exception` is raised, but the code doesn't do what is expected).\n",
    "\n",
    "Of the types of errors, logic-based runtime errors are the trickiest because they do not throw any error message. Debugging tools are very valuable when trying to locate and resolve logic errors."
   ]
  },
  {
   "cell_type": "markdown",
   "metadata": {},
   "source": [
    "# Simple debugging: [Python Tutor](https://pythontutor.com/)\n",
    "When first learning Python, it can be helpful to watch code execute one line at a time, especially when trying to understand flow control or recursive function behavior. [Python Tutor](https://pythontutor.com/) is a free online resource that visualizes code execution, line by line, showing variable references, intermediate values, and final outputs. Python Tutor runs only pure-Python code and does not support imported packages, besides a selection of modules from [Python's standard library](https://docs.python.org/3/library/index.html). Furthermore, Python tutor works with only Python 3.6 (which was released in 2016).\n",
    "\n",
    "<span style=\"color: firebrick; font-weight: bold;\">Note:</span> in general, I recommend using an IDE like Visual Studio Code for line-by-line code execution and debugging since VS Code has more advanced debugging features than Python Tutor and does not share its limitations. But if you come across some code online and want to quickly check how it works, Python Tutor can be a helpful tool."
   ]
  },
  {
   "cell_type": "markdown",
   "metadata": {},
   "source": [
    "The function below has an error. Try to identify it by copying the code and pasting into [PythonTutor.com](https://pythontutor.com/python-debugger.html#mode=edit)'s code visualizer."
   ]
  },
  {
   "cell_type": "code",
   "execution_count": 2,
   "metadata": {},
   "outputs": [],
   "source": [
    "def fib_number(n: int) -> int:\n",
    "    '''Calculate the `n`th Fibonacci number.\n",
    "    \n",
    "    The first two numbers of the sequence are (0, 1). The `n`th number\n",
    "    is the sum of the previous two Fibonacci numbers. Thus, the second Fibonacci\n",
    "    number is 0 + 1 = 1. The third is 1 + 1 = 2; and so on.\n",
    "\n",
    "    Examples:\n",
    "    ```python\n",
    "    >>> fib_number(4)\n",
    "    3\n",
    "    >>> fib_number(10)\n",
    "    55\n",
    "    >>> fib_number(20)\n",
    "    6765\n",
    "    >>> fib_number(100)\n",
    "    354224848179261915075\n",
    "    ```\n",
    "    '''\n",
    "    if n < 3:\n",
    "        return n\n",
    "    else:\n",
    "        return fib_number(n - 1) + fib_number(n - 2)"
   ]
  },
  {
   "cell_type": "code",
   "execution_count": 6,
   "metadata": {},
   "outputs": [
    {
     "ename": "AssertionError",
     "evalue": "Uh oh. fib_number(10) should be 55, but the result is 89",
     "output_type": "error",
     "traceback": [
      "\u001b[1;31m---------------------------------------------------------------------------\u001b[0m",
      "\u001b[1;31mAssertionError\u001b[0m                            Traceback (most recent call last)",
      "Cell \u001b[1;32mIn[6], line 1\u001b[0m\n\u001b[1;32m----> 1\u001b[0m \u001b[39massert\u001b[39;00m fib_number(\u001b[39m10\u001b[39m) \u001b[39m==\u001b[39m \u001b[39m55\u001b[39m, \u001b[39mf\u001b[39m\u001b[39m\"\u001b[39m\u001b[39mUh oh. fib_number(10) should be 55, but the result is \u001b[39m\u001b[39m{\u001b[39;00mfib_number(\u001b[39m10\u001b[39m)\u001b[39m}\u001b[39;00m\u001b[39m\"\u001b[39m\n",
      "\u001b[1;31mAssertionError\u001b[0m: Uh oh. fib_number(10) should be 55, but the result is 89"
     ]
    }
   ],
   "source": [
    "assert fib_number(10) == 55, f\"Uh oh. fib_number(10) should be 55, but the result is {fib_number(10)}\""
   ]
  },
  {
   "cell_type": "markdown",
   "metadata": {},
   "source": [
    "# More complex debugging: VS Code\n",
    "Visual Studio Code performs linting to identify problems adead of time, offers line-by-line execution for quickly checking code flow, and has advanced debugging tools to track down and resolve errors."
   ]
  },
  {
   "cell_type": "markdown",
   "metadata": {},
   "source": [
    "## Example 1: complex code flow\n",
    "The function in this example recursively searches a (nested) dictionary for keys that match a user's query. Depending on the arguments passed to the function and the complexity of the dictionary being searched, the code flow can be difficult to follow without the aid of line-by-line execution or a debugger. We'll explore the use of VS Code's debugging tools to track the function's progress to search for matching keys.\n",
    "\n",
    "Background on the function:  \n",
    "The core idea is searching for a term within a list (since `mydict.keys()` returns a list). Here’s [a helpful StackOverflow answer](https://stackoverflow.com/questions/3640359/regular-expressions-search-in-list/39593126#39593126) that shows how to do that.\n",
    "\n",
    "The search function is handled by the `regex` package, which adds fuzzy matching functionality to Python’s basic `re` module. See this [blog post from Max Halford](https://maxhalford.github.io/blog/fuzzy-regex-matching-in-python/) for a brief explanation. More details are found in [the `regex` GitHub repo](https://github.com/mrabarnett/mrab-regex#approximate-fuzzy-matching-hg-issue-12-hg-issue-41-hg-issue-109)."
   ]
  },
  {
   "cell_type": "code",
   "execution_count": null,
   "metadata": {},
   "outputs": [],
   "source": [
    "# %pip install regex"
   ]
  },
  {
   "cell_type": "code",
   "execution_count": 14,
   "metadata": {},
   "outputs": [],
   "source": [
    "import regex\n",
    "\n",
    "def dict_search(\n",
    "    search_term: str,\n",
    "    search_dict: dict,\n",
    "    fetch_all: bool=True,\n",
    "    fuzzy_constraints: str='{s,i,2i+4s<=4}',\n",
    "    search_dict_name: str=''):\n",
    "    '''Search for a term within the keys of a (nested) dictionary.\n",
    "\n",
    "    Parameters\n",
    "    ----------\n",
    "    search_term: str\n",
    "        The term you want to find among the keys of a (potentially nested)\n",
    "        dictionary.\n",
    "\n",
    "    search_dict: dict\n",
    "        The dictionary whose keys will be searched for a matching term. Leave\n",
    "        this as the top-level dict variable, such as `my_dict`, not \n",
    "        `my_dict['subdict']`, since this function uses the top-level dict to\n",
    "        trace down each level.\n",
    "\n",
    "        If you want to search starting at a particular key (like \n",
    "        `my_dict['subdict']`), then use `my_dict['subdict']` for the\n",
    "        search_dict parameter and specify the search_dict_name parameter\n",
    "        as \"my_dict['subdict']\".\n",
    "\n",
    "    fetch_all: bool, default=True\n",
    "        If `True` (default), print all matching keys across all levels of\n",
    "        the (nested) dictionary. If `False`, stop printing matches after the\n",
    "        first level where a match is found.\n",
    "\n",
    "    fuzzy_constraints: str, default='{s,i,2i+4s<=4}'\n",
    "        Searches are based on \"fuzzy matching\" logic, where a matched dict key\n",
    "        does not need to be an exact match. For example, a search for \"price\"\n",
    "        would also return results for \"pricing\" or \"prices\".\n",
    "\n",
    "        The constraints are:\n",
    "        {substitutions, insertions, deletions, weighting_factor}.\n",
    "\n",
    "        For example: {e<=3} will match any string where there are\n",
    "        at most 3 differences (\"errors\") between the matched value and the\n",
    "        searched term. {s<=3,i<=3,d<=3} will match any string where there are\n",
    "        at most 3 substitutions (e.g., \"run\" has 1 substitution from \"ran\"),\n",
    "        3 insertions (e.g., \"strep\" has 1 insertion from \"step\"), and\n",
    "        3 deletions (e.g. \"bach\" has 1 deletion from \"beach\").\n",
    "\n",
    "        The weighting factors enable you to set the cost of each kind of error,\n",
    "        prioritizing some errors over others in the matching logic.\n",
    "        For example, {s,i,d,2i+3d+4s<=5} allows substitutions, insertions,\n",
    "        and deletions, where the cost of each insertion is 2, the cost of each\n",
    "        deletion is 3, and the cost of each substition is 4, with the total\n",
    "        cost limited to no more than 5, which allows 2 insertions, 1\n",
    "        substitution, 1 deletion, or 1 insertion and 1 deletion together.\n",
    "\n",
    "        For more info, see: https://github.com/mrabarnett/mrab-regex#approximate-fuzzy-matching-hg-issue-12-hg-issue-41-hg-issue-109\n",
    "\n",
    "    search_dict_name: str, default=''\n",
    "        The name of the dictionary variable that will be searched. If the\n",
    "        search_dict parameter is a top-level dictionary (like `mydict`), this\n",
    "        should be left at its default (the empty string ''). If the\n",
    "        search_dict parameter is a sub-level in the dictionary (like\n",
    "        `my_dict['subdict']`, then this should be a string of that variable\n",
    "        name (\"my_dict['subdict']\").\n",
    "\n",
    "\n",
    "    Returns\n",
    "    -------\n",
    "    `None`. Results are printed for each key that matches the search term.\n",
    "\n",
    "    Notes\n",
    "    -----\n",
    "    Inspiration for this method came from the following two sources:\n",
    "    - Searching through a list: https://stackoverflow.com/questions/3640359/regular-expressions-search-in-list/39593126#39593126\n",
    "    - Fuzzy matching: https://maxhalford.github.io/blog/fuzzy-regex-matching-in-python/\n",
    "\n",
    "    '''\n",
    "\n",
    "    # Store the name of the dictionary being searched\n",
    "    # Reference: https://bobbyhadz.com/blog/python-print-variable-name\n",
    "    if search_dict_name == '':\n",
    "        globals_dict = globals()\n",
    "        search_dict_name = [var_name for var_name in globals_dict if (globals_dict[var_name] is search_dict)][0]\n",
    "        del globals_dict\n",
    "\n",
    "    # Perform the fuzzy-match search across dict keys\n",
    "    pattern = f\"({search_term})\" + fuzzy_constraints # Default: \"{s,i,2i+4s<=4}\" \n",
    "    results_list = list(filter(\n",
    "        lambda s: regex.search(pattern, s, regex.BESTMATCH),\n",
    "        search_dict.keys())\n",
    "    )\n",
    "\n",
    "    if results_list:\n",
    "        for item in results_list:            \n",
    "            print(f\"{search_dict_name}['{item}']\")\n",
    "        if fetch_all:\n",
    "            # Recurse through nested dictionary levels\n",
    "            for k in search_dict.keys():\n",
    "                if type(search_dict[k]) == dict:\n",
    "                    dict_search(search_term,\n",
    "                                search_dict[k], \n",
    "                                fetch_all=fetch_all, \n",
    "                                fuzzy_constraints=fuzzy_constraints, \n",
    "                                search_dict_name=f\"{search_dict_name}['{k}']\")\n",
    "                # Also search through lists if there are lists-of-dicts\n",
    "                elif type(search_dict[k]) == list:\n",
    "                    for n, subitem in enumerate(search_dict[k]):\n",
    "                        if type(subitem) == dict:\n",
    "                            dict_search(search_term,\n",
    "                                        subitem, \n",
    "                                        fetch_all=fetch_all, \n",
    "                                        fuzzy_constraints=fuzzy_constraints, \n",
    "                                        search_dict_name=f\"{search_dict_name}['{k}'][{n}]\")\n",
    "\n",
    "    else:\n",
    "        # Recurse through nested dictionary levels\n",
    "        for k in search_dict.keys():\n",
    "            if type(search_dict[k]) == dict:\n",
    "                dict_search(search_term,\n",
    "                            search_dict[k], \n",
    "                            fetch_all=fetch_all, \n",
    "                            fuzzy_constraints=fuzzy_constraints, \n",
    "                            search_dict_name=f\"{search_dict_name}['{k}']\")\n",
    "            # Also search through lists if there are lists-of-dicts\n",
    "            elif type(search_dict[k]) == list:\n",
    "                    for n, subitem in enumerate(search_dict[k]):\n",
    "                        if type(subitem) == dict:\n",
    "                            dict_search(search_term,\n",
    "                                        subitem, \n",
    "                                        fetch_all=fetch_all, \n",
    "                                        fuzzy_constraints=fuzzy_constraints, \n",
    "                                        search_dict_name=f\"{search_dict_name}['{k}'][{n}]\")"
   ]
  },
  {
   "cell_type": "markdown",
   "metadata": {},
   "source": [
    "Test the function using weather forecast data for Frisco, TX, from [Open-Meteo.com](https://open-meteo.com/en/docs), an open-source API for weather forecasts and weather history."
   ]
  },
  {
   "cell_type": "code",
   "execution_count": 7,
   "metadata": {},
   "outputs": [],
   "source": [
    "import json         # convert JSON to Python dictionaries and vice-versa\n",
    "import requests     # make API calls (and other web requests)\n",
    "\n",
    "r = requests.get(url=(\n",
    "    'https://api.open-meteo.com/v1/forecast?'\n",
    "    'latitude=33.1507'\n",
    "    '&longitude=-96.8236'\n",
    "    '&hourly='\n",
    "        'temperature_2m,'\n",
    "        'relativehumidity_2m,'\n",
    "        'apparent_temperature,'\n",
    "        'precipitation_probability,'\n",
    "        'precipitation,'\n",
    "        'weathercode,'\n",
    "        'surface_pressure,'\n",
    "        'cloudcover,'\n",
    "        'visibility,'\n",
    "        'windspeed_10m,'\n",
    "        'winddirection_10m,'\n",
    "        'temperature_180m,'\n",
    "        'uv_index,'\n",
    "        'is_day'\n",
    "    '&current_weather=true'\n",
    "    '&timezone=America%2FChicago'\n",
    "    # '&past_days=3'\n",
    "    '&forecast_days=7'))\n",
    "\n",
    "forecast = r.json()"
   ]
  },
  {
   "cell_type": "code",
   "execution_count": 16,
   "metadata": {},
   "outputs": [
    {
     "name": "stdout",
     "output_type": "stream",
     "text": [
      "forecast['current_weather']['temperature']\n",
      "forecast['hourly_units']['temperature_2m']\n",
      "forecast['hourly_units']['apparent_temperature']\n",
      "forecast['hourly_units']['temperature_180m']\n",
      "forecast['hourly']['temperature_2m']\n",
      "forecast['hourly']['apparent_temperature']\n",
      "forecast['hourly']['temperature_180m']\n"
     ]
    }
   ],
   "source": [
    "# Search for a weather variable\n",
    "dict_search('temp', forecast, search_dict_name='forecast')"
   ]
  },
  {
   "cell_type": "markdown",
   "metadata": {},
   "source": [
    "## Example 2: PyTorch\n",
    "Aligning tensor dimensions for opertations in neural networks can be tricky. Packages like [`tensor-sensor`](https://github.com/parrt/tensor-sensor) can help with visualizing the tensor operations, but debugging tools can also be very valuable, especially variable introspection during execution. We'll explore how to use that feature in this section.\n",
    "\n",
    "The code in this section trains a neural network to use embeddings from text to output a score (such as a rating given a review text or a likelihood of default given a description of past credit activity).\n",
    "\n"
   ]
  },
  {
   "cell_type": "markdown",
   "metadata": {},
   "source": [
    "Import packages"
   ]
  },
  {
   "cell_type": "code",
   "execution_count": 18,
   "metadata": {},
   "outputs": [],
   "source": [
    "import pandas as pd\n",
    "import torch\n",
    "from torch.utils.data import DataLoader"
   ]
  },
  {
   "cell_type": "markdown",
   "metadata": {},
   "source": [
    "Load a dataset with text and a numerical target"
   ]
  },
  {
   "cell_type": "code",
   "execution_count": 40,
   "metadata": {},
   "outputs": [
    {
     "data": {
      "text/html": [
       "<div>\n",
       "<style scoped>\n",
       "    .dataframe tbody tr th:only-of-type {\n",
       "        vertical-align: middle;\n",
       "    }\n",
       "\n",
       "    .dataframe tbody tr th {\n",
       "        vertical-align: top;\n",
       "    }\n",
       "\n",
       "    .dataframe thead th {\n",
       "        text-align: right;\n",
       "    }\n",
       "</style>\n",
       "<table border=\"1\" class=\"dataframe\">\n",
       "  <thead>\n",
       "    <tr style=\"text-align: right;\">\n",
       "      <th></th>\n",
       "      <th>review_id</th>\n",
       "      <th>product_id</th>\n",
       "      <th>reviewer_id</th>\n",
       "      <th>stars</th>\n",
       "      <th>review_body</th>\n",
       "      <th>review_title</th>\n",
       "      <th>language</th>\n",
       "      <th>product_category</th>\n",
       "    </tr>\n",
       "  </thead>\n",
       "  <tbody>\n",
       "    <tr>\n",
       "      <th>0</th>\n",
       "      <td>en_0964290</td>\n",
       "      <td>product_en_0740675</td>\n",
       "      <td>reviewer_en_0342986</td>\n",
       "      <td>1</td>\n",
       "      <td>Arrived broken. Manufacturer defect. Two of th...</td>\n",
       "      <td>I'll spend twice the amount of time boxing up ...</td>\n",
       "      <td>en</td>\n",
       "      <td>furniture</td>\n",
       "    </tr>\n",
       "    <tr>\n",
       "      <th>1</th>\n",
       "      <td>en_0690095</td>\n",
       "      <td>product_en_0440378</td>\n",
       "      <td>reviewer_en_0133349</td>\n",
       "      <td>1</td>\n",
       "      <td>the cabinet dot were all detached from backing...</td>\n",
       "      <td>Not use able</td>\n",
       "      <td>en</td>\n",
       "      <td>home_improvement</td>\n",
       "    </tr>\n",
       "    <tr>\n",
       "      <th>2</th>\n",
       "      <td>en_0311558</td>\n",
       "      <td>product_en_0399702</td>\n",
       "      <td>reviewer_en_0152034</td>\n",
       "      <td>1</td>\n",
       "      <td>I received my first order of this product and ...</td>\n",
       "      <td>The product is junk.</td>\n",
       "      <td>en</td>\n",
       "      <td>home</td>\n",
       "    </tr>\n",
       "    <tr>\n",
       "      <th>3</th>\n",
       "      <td>en_0044972</td>\n",
       "      <td>product_en_0444063</td>\n",
       "      <td>reviewer_en_0656967</td>\n",
       "      <td>1</td>\n",
       "      <td>This product is a piece of shit. Do not buy. D...</td>\n",
       "      <td>Fucking waste of money</td>\n",
       "      <td>en</td>\n",
       "      <td>wireless</td>\n",
       "    </tr>\n",
       "    <tr>\n",
       "      <th>4</th>\n",
       "      <td>en_0784379</td>\n",
       "      <td>product_en_0139353</td>\n",
       "      <td>reviewer_en_0757638</td>\n",
       "      <td>1</td>\n",
       "      <td>went through 3 in one day doesn't fit correct ...</td>\n",
       "      <td>bubble</td>\n",
       "      <td>en</td>\n",
       "      <td>pc</td>\n",
       "    </tr>\n",
       "  </tbody>\n",
       "</table>\n",
       "</div>"
      ],
      "text/plain": [
       "    review_id          product_id          reviewer_id  stars  \\\n",
       "0  en_0964290  product_en_0740675  reviewer_en_0342986      1   \n",
       "1  en_0690095  product_en_0440378  reviewer_en_0133349      1   \n",
       "2  en_0311558  product_en_0399702  reviewer_en_0152034      1   \n",
       "3  en_0044972  product_en_0444063  reviewer_en_0656967      1   \n",
       "4  en_0784379  product_en_0139353  reviewer_en_0757638      1   \n",
       "\n",
       "                                         review_body  \\\n",
       "0  Arrived broken. Manufacturer defect. Two of th...   \n",
       "1  the cabinet dot were all detached from backing...   \n",
       "2  I received my first order of this product and ...   \n",
       "3  This product is a piece of shit. Do not buy. D...   \n",
       "4  went through 3 in one day doesn't fit correct ...   \n",
       "\n",
       "                                        review_title language  \\\n",
       "0  I'll spend twice the amount of time boxing up ...       en   \n",
       "1                                       Not use able       en   \n",
       "2                               The product is junk.       en   \n",
       "3                             Fucking waste of money       en   \n",
       "4                                             bubble       en   \n",
       "\n",
       "   product_category  \n",
       "0         furniture  \n",
       "1  home_improvement  \n",
       "2              home  \n",
       "3          wireless  \n",
       "4                pc  "
      ]
     },
     "execution_count": 40,
     "metadata": {},
     "output_type": "execute_result"
    }
   ],
   "source": [
    "# download a dataset with text and corresponding numeric scores\n",
    "# I learned about this data source from: https://huggingface.co/learn/nlp-course/chapter7/5?fw=pt\n",
    "r = requests.get(url=(\n",
    "    'https://datasets-server.huggingface.co/rows'\n",
    "    '?dataset=amazon_reviews_multi'\n",
    "    '&config=en'\n",
    "    '&split=train'\n",
    "    '&offset=0'\n",
    "    '&limit=1000'))\n",
    "\n",
    "data_dict = []\n",
    "for row in r.json()['rows']:\n",
    "    data_dict.append(row['row'])\n",
    "df = pd.DataFrame.from_dict(data_dict)\n",
    "df.head()"
   ]
  },
  {
   "cell_type": "code",
   "execution_count": null,
   "metadata": {},
   "outputs": [],
   "source": [
    "class SampleDataset(torch.utils.data.Dataset):\n",
    "\n",
    "    def __init__(self, train, data, labels):\n",
    "        self.data = data\n",
    "        self.labels = labels\n",
    "\n",
    "    def __len__(self):\n",
    "        return len(self.data)\n",
    "\n",
    "    def __getitem__(self, index):\n",
    "        return self.data[index], self.labels[index]\n"
   ]
  },
  {
   "cell_type": "markdown",
   "metadata": {},
   "source": [
    "Set up DataLoader for processing the data"
   ]
  },
  {
   "cell_type": "code",
   "execution_count": null,
   "metadata": {},
   "outputs": [],
   "source": []
  },
  {
   "cell_type": "markdown",
   "metadata": {},
   "source": [
    "Define the network architecture"
   ]
  },
  {
   "cell_type": "code",
   "execution_count": null,
   "metadata": {},
   "outputs": [],
   "source": []
  },
  {
   "cell_type": "markdown",
   "metadata": {},
   "source": [
    "Embed the text using `sentence_transformers`"
   ]
  },
  {
   "cell_type": "code",
   "execution_count": null,
   "metadata": {},
   "outputs": [],
   "source": []
  },
  {
   "cell_type": "markdown",
   "metadata": {},
   "source": [
    "Train the model"
   ]
  },
  {
   "cell_type": "code",
   "execution_count": null,
   "metadata": {},
   "outputs": [],
   "source": []
  },
  {
   "cell_type": "markdown",
   "metadata": {},
   "source": [
    "Evaluate performance using a metric like R²"
   ]
  },
  {
   "cell_type": "code",
   "execution_count": null,
   "metadata": {},
   "outputs": [],
   "source": []
  },
  {
   "cell_type": "markdown",
   "metadata": {},
   "source": [
    "# Python's built-in `pdb` module\n",
    "Even if you don't have access to powerful debugging tools from an IDE like VS Code, you can always use Python's built-in [`pdb` module](https://docs.python.org/3/library/pdb.html), for \"Python DeBugger.\"\n",
    "\n",
    "To use `pdb` in Python 3.7+, simply type `breakpoint()` on the line where you want to pause code execution and enter the `pdb` interactive Python prompt (REPL, or Read Execute Print Loop), which will enable you to inspect variables and run other commands. To resume code execution, run the command `continue`.\n",
    "\n",
    "To use `pdb` in Python versions before 3.7, do the following:\n",
    "```python\n",
    "import pdb\n",
    "...\n",
    "<YOUR CODE HERE>\n",
    "...\n",
    "pdb.set_trace()\n",
    "```\n",
    "\n",
    "and the Python debugger interactive prompt will launch when the `pdb.set_trace()` statement is executed.\n",
    "\n",
    "Once you've entered the Python debugger, [use these commands](https://docs.python.org/3/library/pdb.html#debugger-commands) along with any of your own Python code to inspect variables and move around the code."
   ]
  },
  {
   "cell_type": "code",
   "execution_count": 28,
   "metadata": {},
   "outputs": [
    {
     "data": {
      "text/html": [
       "<style>\n",
       "        .bk-notebook-logo {\n",
       "            display: block;\n",
       "            width: 20px;\n",
       "            height: 20px;\n",
       "            background-image: url(data:image/png;base64,iVBORw0KGgoAAAANSUhEUgAAABQAAAAUCAYAAACNiR0NAAAABHNCSVQICAgIfAhkiAAAAAlwSFlzAAALEgAACxIB0t1+/AAAABx0RVh0U29mdHdhcmUAQWRvYmUgRmlyZXdvcmtzIENTNui8sowAAAOkSURBVDiNjZRtaJVlGMd/1/08zzln5zjP1LWcU9N0NkN8m2CYjpgQYQXqSs0I84OLIC0hkEKoPtiH3gmKoiJDU7QpLgoLjLIQCpEsNJ1vqUOdO7ppbuec5+V+rj4ctwzd8IIbbi6u+8f1539dt3A78eXC7QizUF7gyV1fD1Yqg4JWz84yffhm0qkFqBogB9rM8tZdtwVsPUhWhGcFJngGeWrPzHm5oaMmkfEg1usvLFyc8jLRqDOMru7AyC8saQr7GG7f5fvDeH7Ej8CM66nIF+8yngt6HWaKh7k49Soy9nXurCi1o3qUbS3zWfrYeQDTB/Qj6kX6Ybhw4B+bOYoLKCC9H3Nu/leUTZ1JdRWkkn2ldcCamzrcf47KKXdAJllSlxAOkRgyHsGC/zRday5Qld9DyoM4/q/rUoy/CXh3jzOu3bHUVZeU+DEn8FInkPBFlu3+nW3Nw0mk6vCDiWg8CeJaxEwuHS3+z5RgY+YBR6V1Z1nxSOfoaPa4LASWxxdNp+VWTk7+4vzaou8v8PN+xo+KY2xsw6une2frhw05CTYOmQvsEhjhWjn0bmXPjpE1+kplmmkP3suftwTubK9Vq22qKmrBhpY4jvd5afdRA3wGjFAgcnTK2s4hY0/GPNIb0nErGMCRxWOOX64Z8RAC4oCXdklmEvcL8o0BfkNK4lUg9HTl+oPlQxdNo3Mg4Nv175e/1LDGzZen30MEjRUtmXSfiTVu1kK8W4txyV6BMKlbgk3lMwYCiusNy9fVfvvwMxv8Ynl6vxoByANLTWplvuj/nF9m2+PDtt1eiHPBr1oIfhCChQMBw6Aw0UulqTKZdfVvfG7VcfIqLG9bcldL/+pdWTLxLUy8Qq38heUIjh4XlzZxzQm19lLFlr8vdQ97rjZVOLf8nclzckbcD4wxXMidpX30sFd37Fv/GtwwhzhxGVAprjbg0gCAEeIgwCZyTV2Z1REEW8O4py0wsjeloKoMr6iCY6dP92H6Vw/oTyICIthibxjm/DfN9lVz8IqtqKYLUXfoKVMVQVVJOElGjrnnUt9T9wbgp8AyYKaGlqingHZU/uG2NTZSVqwHQTWkx9hxjkpWDaCg6Ckj5qebgBVbT3V3NNXMSiWSDdGV3hrtzla7J+duwPOToIg42ChPQOQjspnSlp1V+Gjdged7+8UN5CRAV7a5EdFNwCjEaBR27b3W890TE7g24NAP/mMDXRWrGoFPQI9ls/MWO2dWFAar/xcOIImbbpA3zgAAAABJRU5ErkJggg==);\n",
       "        }\n",
       "    </style>\n",
       "    <div>\n",
       "        <a href=\"https://bokeh.org\" target=\"_blank\" class=\"bk-notebook-logo\"></a>\n",
       "        <span id=\"ded8371e-67e4-4e85-9e6b-c0c69b97d9c8\">Loading BokehJS ...</span>\n",
       "    </div>\n"
      ]
     },
     "metadata": {},
     "output_type": "display_data"
    },
    {
     "data": {
      "application/javascript": "(function(root) {\n  function now() {\n    return new Date();\n  }\n\n  const force = true;\n\n  if (typeof root._bokeh_onload_callbacks === \"undefined\" || force === true) {\n    root._bokeh_onload_callbacks = [];\n    root._bokeh_is_loading = undefined;\n  }\n\nconst JS_MIME_TYPE = 'application/javascript';\n  const HTML_MIME_TYPE = 'text/html';\n  const EXEC_MIME_TYPE = 'application/vnd.bokehjs_exec.v0+json';\n  const CLASS_NAME = 'output_bokeh rendered_html';\n\n  /**\n   * Render data to the DOM node\n   */\n  function render(props, node) {\n    const script = document.createElement(\"script\");\n    node.appendChild(script);\n  }\n\n  /**\n   * Handle when an output is cleared or removed\n   */\n  function handleClearOutput(event, handle) {\n    const cell = handle.cell;\n\n    const id = cell.output_area._bokeh_element_id;\n    const server_id = cell.output_area._bokeh_server_id;\n    // Clean up Bokeh references\n    if (id != null && id in Bokeh.index) {\n      Bokeh.index[id].model.document.clear();\n      delete Bokeh.index[id];\n    }\n\n    if (server_id !== undefined) {\n      // Clean up Bokeh references\n      const cmd_clean = \"from bokeh.io.state import curstate; print(curstate().uuid_to_server['\" + server_id + \"'].get_sessions()[0].document.roots[0]._id)\";\n      cell.notebook.kernel.execute(cmd_clean, {\n        iopub: {\n          output: function(msg) {\n            const id = msg.content.text.trim();\n            if (id in Bokeh.index) {\n              Bokeh.index[id].model.document.clear();\n              delete Bokeh.index[id];\n            }\n          }\n        }\n      });\n      // Destroy server and session\n      const cmd_destroy = \"import bokeh.io.notebook as ion; ion.destroy_server('\" + server_id + \"')\";\n      cell.notebook.kernel.execute(cmd_destroy);\n    }\n  }\n\n  /**\n   * Handle when a new output is added\n   */\n  function handleAddOutput(event, handle) {\n    const output_area = handle.output_area;\n    const output = handle.output;\n\n    // limit handleAddOutput to display_data with EXEC_MIME_TYPE content only\n    if ((output.output_type != \"display_data\") || (!Object.prototype.hasOwnProperty.call(output.data, EXEC_MIME_TYPE))) {\n      return\n    }\n\n    const toinsert = output_area.element.find(\".\" + CLASS_NAME.split(' ')[0]);\n\n    if (output.metadata[EXEC_MIME_TYPE][\"id\"] !== undefined) {\n      toinsert[toinsert.length - 1].firstChild.textContent = output.data[JS_MIME_TYPE];\n      // store reference to embed id on output_area\n      output_area._bokeh_element_id = output.metadata[EXEC_MIME_TYPE][\"id\"];\n    }\n    if (output.metadata[EXEC_MIME_TYPE][\"server_id\"] !== undefined) {\n      const bk_div = document.createElement(\"div\");\n      bk_div.innerHTML = output.data[HTML_MIME_TYPE];\n      const script_attrs = bk_div.children[0].attributes;\n      for (let i = 0; i < script_attrs.length; i++) {\n        toinsert[toinsert.length - 1].firstChild.setAttribute(script_attrs[i].name, script_attrs[i].value);\n        toinsert[toinsert.length - 1].firstChild.textContent = bk_div.children[0].textContent\n      }\n      // store reference to server id on output_area\n      output_area._bokeh_server_id = output.metadata[EXEC_MIME_TYPE][\"server_id\"];\n    }\n  }\n\n  function register_renderer(events, OutputArea) {\n\n    function append_mime(data, metadata, element) {\n      // create a DOM node to render to\n      const toinsert = this.create_output_subarea(\n        metadata,\n        CLASS_NAME,\n        EXEC_MIME_TYPE\n      );\n      this.keyboard_manager.register_events(toinsert);\n      // Render to node\n      const props = {data: data, metadata: metadata[EXEC_MIME_TYPE]};\n      render(props, toinsert[toinsert.length - 1]);\n      element.append(toinsert);\n      return toinsert\n    }\n\n    /* Handle when an output is cleared or removed */\n    events.on('clear_output.CodeCell', handleClearOutput);\n    events.on('delete.Cell', handleClearOutput);\n\n    /* Handle when a new output is added */\n    events.on('output_added.OutputArea', handleAddOutput);\n\n    /**\n     * Register the mime type and append_mime function with output_area\n     */\n    OutputArea.prototype.register_mime_type(EXEC_MIME_TYPE, append_mime, {\n      /* Is output safe? */\n      safe: true,\n      /* Index of renderer in `output_area.display_order` */\n      index: 0\n    });\n  }\n\n  // register the mime type if in Jupyter Notebook environment and previously unregistered\n  if (root.Jupyter !== undefined) {\n    const events = require('base/js/events');\n    const OutputArea = require('notebook/js/outputarea').OutputArea;\n\n    if (OutputArea.prototype.mime_types().indexOf(EXEC_MIME_TYPE) == -1) {\n      register_renderer(events, OutputArea);\n    }\n  }\n  if (typeof (root._bokeh_timeout) === \"undefined\" || force === true) {\n    root._bokeh_timeout = Date.now() + 5000;\n    root._bokeh_failed_load = false;\n  }\n\n  const NB_LOAD_WARNING = {'data': {'text/html':\n     \"<div style='background-color: #fdd'>\\n\"+\n     \"<p>\\n\"+\n     \"BokehJS does not appear to have successfully loaded. If loading BokehJS from CDN, this \\n\"+\n     \"may be due to a slow or bad network connection. Possible fixes:\\n\"+\n     \"</p>\\n\"+\n     \"<ul>\\n\"+\n     \"<li>re-rerun `output_notebook()` to attempt to load from CDN again, or</li>\\n\"+\n     \"<li>use INLINE resources instead, as so:</li>\\n\"+\n     \"</ul>\\n\"+\n     \"<code>\\n\"+\n     \"from bokeh.resources import INLINE\\n\"+\n     \"output_notebook(resources=INLINE)\\n\"+\n     \"</code>\\n\"+\n     \"</div>\"}};\n\n  function display_loaded() {\n    const el = document.getElementById(\"ded8371e-67e4-4e85-9e6b-c0c69b97d9c8\");\n    if (el != null) {\n      el.textContent = \"BokehJS is loading...\";\n    }\n    if (root.Bokeh !== undefined) {\n      if (el != null) {\n        el.textContent = \"BokehJS \" + root.Bokeh.version + \" successfully loaded.\";\n      }\n    } else if (Date.now() < root._bokeh_timeout) {\n      setTimeout(display_loaded, 100)\n    }\n  }\n\n  function run_callbacks() {\n    try {\n      root._bokeh_onload_callbacks.forEach(function(callback) {\n        if (callback != null)\n          callback();\n      });\n    } finally {\n      delete root._bokeh_onload_callbacks\n    }\n    console.debug(\"Bokeh: all callbacks have finished\");\n  }\n\n  function load_libs(css_urls, js_urls, callback) {\n    if (css_urls == null) css_urls = [];\n    if (js_urls == null) js_urls = [];\n\n    root._bokeh_onload_callbacks.push(callback);\n    if (root._bokeh_is_loading > 0) {\n      console.debug(\"Bokeh: BokehJS is being loaded, scheduling callback at\", now());\n      return null;\n    }\n    if (js_urls == null || js_urls.length === 0) {\n      run_callbacks();\n      return null;\n    }\n    console.debug(\"Bokeh: BokehJS not loaded, scheduling load and callback at\", now());\n    root._bokeh_is_loading = css_urls.length + js_urls.length;\n\n    function on_load() {\n      root._bokeh_is_loading--;\n      if (root._bokeh_is_loading === 0) {\n        console.debug(\"Bokeh: all BokehJS libraries/stylesheets loaded\");\n        run_callbacks()\n      }\n    }\n\n    function on_error(url) {\n      console.error(\"failed to load \" + url);\n    }\n\n    for (let i = 0; i < css_urls.length; i++) {\n      const url = css_urls[i];\n      const element = document.createElement(\"link\");\n      element.onload = on_load;\n      element.onerror = on_error.bind(null, url);\n      element.rel = \"stylesheet\";\n      element.type = \"text/css\";\n      element.href = url;\n      console.debug(\"Bokeh: injecting link tag for BokehJS stylesheet: \", url);\n      document.body.appendChild(element);\n    }\n\n    for (let i = 0; i < js_urls.length; i++) {\n      const url = js_urls[i];\n      const element = document.createElement('script');\n      element.onload = on_load;\n      element.onerror = on_error.bind(null, url);\n      element.async = false;\n      element.src = url;\n      console.debug(\"Bokeh: injecting script tag for BokehJS library: \", url);\n      document.head.appendChild(element);\n    }\n  };\n\n  function inject_raw_css(css) {\n    const element = document.createElement(\"style\");\n    element.appendChild(document.createTextNode(css));\n    document.body.appendChild(element);\n  }\n\n  const js_urls = [\"https://cdn.bokeh.org/bokeh/release/bokeh-3.2.1.min.js\", \"https://cdn.bokeh.org/bokeh/release/bokeh-gl-3.2.1.min.js\", \"https://cdn.bokeh.org/bokeh/release/bokeh-widgets-3.2.1.min.js\", \"https://cdn.bokeh.org/bokeh/release/bokeh-tables-3.2.1.min.js\", \"https://cdn.bokeh.org/bokeh/release/bokeh-mathjax-3.2.1.min.js\"];\n  const css_urls = [];\n\n  const inline_js = [    function(Bokeh) {\n      Bokeh.set_log_level(\"info\");\n    },\nfunction(Bokeh) {\n    }\n  ];\n\n  function run_inline_js() {\n    if (root.Bokeh !== undefined || force === true) {\n          for (let i = 0; i < inline_js.length; i++) {\n      inline_js[i].call(root, root.Bokeh);\n    }\nif (force === true) {\n        display_loaded();\n      }} else if (Date.now() < root._bokeh_timeout) {\n      setTimeout(run_inline_js, 100);\n    } else if (!root._bokeh_failed_load) {\n      console.log(\"Bokeh: BokehJS failed to load within specified timeout.\");\n      root._bokeh_failed_load = true;\n    } else if (force !== true) {\n      const cell = $(document.getElementById(\"ded8371e-67e4-4e85-9e6b-c0c69b97d9c8\")).parents('.cell').data().cell;\n      cell.output_area.append_execute_result(NB_LOAD_WARNING)\n    }\n  }\n\n  if (root._bokeh_is_loading === 0) {\n    console.debug(\"Bokeh: BokehJS loaded, going straight to plotting\");\n    run_inline_js();\n  } else {\n    load_libs(css_urls, js_urls, function() {\n      console.debug(\"Bokeh: BokehJS plotting callback run at\", now());\n      run_inline_js();\n    });\n  }\n}(window));",
      "application/vnd.bokehjs_load.v0+json": ""
     },
     "metadata": {},
     "output_type": "display_data"
    }
   ],
   "source": [
    "import pdb\n",
    "\n",
    "from bokeh.io import output_notebook\n",
    "from bokeh.models import ColumnDataSource, HoverTool\n",
    "from bokeh.plotting import figure, show\n",
    "import pandas as pd\n",
    "\n",
    "output_notebook()"
   ]
  },
  {
   "cell_type": "code",
   "execution_count": 44,
   "metadata": {},
   "outputs": [
    {
     "data": {
      "text/html": [
       "\n",
       "  <div id=\"a8867e00-913b-4391-99f0-2b1f78879fc8\" data-root-id=\"p2684\" style=\"display: contents;\"></div>\n"
      ]
     },
     "metadata": {},
     "output_type": "display_data"
    },
    {
     "data": {
      "application/javascript": "(function(root) {\n  function embed_document(root) {\n  const docs_json = {\"590381c9-395b-45a3-b834-f733c62eb6fc\":{\"version\":\"3.2.1\",\"title\":\"Bokeh Application\",\"roots\":[{\"type\":\"object\",\"name\":\"Figure\",\"id\":\"p2684\",\"attributes\":{\"x_range\":{\"type\":\"object\",\"name\":\"DataRange1d\",\"id\":\"p2685\"},\"y_range\":{\"type\":\"object\",\"name\":\"DataRange1d\",\"id\":\"p2686\"},\"x_scale\":{\"type\":\"object\",\"name\":\"LinearScale\",\"id\":\"p2694\"},\"y_scale\":{\"type\":\"object\",\"name\":\"LinearScale\",\"id\":\"p2695\"},\"title\":{\"type\":\"object\",\"name\":\"Title\",\"id\":\"p2687\",\"attributes\":{\"text\":\"Temperature forecast for Prosper, TX\"}},\"renderers\":[{\"type\":\"object\",\"name\":\"GlyphRenderer\",\"id\":\"p2731\",\"attributes\":{\"data_source\":{\"type\":\"object\",\"name\":\"ColumnDataSource\",\"id\":\"p2681\",\"attributes\":{\"selected\":{\"type\":\"object\",\"name\":\"Selection\",\"id\":\"p2682\",\"attributes\":{\"indices\":[],\"line_indices\":[]}},\"selection_policy\":{\"type\":\"object\",\"name\":\"UnionRenderers\",\"id\":\"p2683\"},\"data\":{\"type\":\"map\",\"entries\":[[\"index\",{\"type\":\"ndarray\",\"array\":{\"type\":\"bytes\",\"data\":\"AAAAAAEAAAACAAAAAwAAAAQAAAAFAAAABgAAAAcAAAAIAAAACQAAAAoAAAALAAAADAAAAA0AAAAOAAAADwAAABAAAAARAAAAEgAAABMAAAAUAAAAFQAAABYAAAAXAAAAGAAAABkAAAAaAAAAGwAAABwAAAAdAAAAHgAAAB8AAAAgAAAAIQAAACIAAAAjAAAAJAAAACUAAAAmAAAAJwAAACgAAAApAAAAKgAAACsAAAAsAAAALQAAAC4AAAAvAAAAMAAAADEAAAAyAAAAMwAAADQAAAA1AAAANgAAADcAAAA4AAAAOQAAADoAAAA7AAAAPAAAAD0AAAA+AAAAPwAAAEAAAABBAAAAQgAAAEMAAABEAAAARQAAAEYAAABHAAAASAAAAEkAAABKAAAASwAAAEwAAABNAAAATgAAAE8AAABQAAAAUQAAAFIAAABTAAAAVAAAAFUAAABWAAAAVwAAAFgAAABZAAAAWgAAAFsAAABcAAAAXQAAAF4AAABfAAAAYAAAAGEAAABiAAAAYwAAAGQAAABlAAAAZgAAAGcAAABoAAAAaQAAAGoAAABrAAAAbAAAAG0AAABuAAAAbwAAAHAAAABxAAAAcgAAAHMAAAB0AAAAdQAAAHYAAAB3AAAAeAAAAHkAAAB6AAAAewAAAHwAAAB9AAAAfgAAAH8AAACAAAAAgQAAAIIAAACDAAAAhAAAAIUAAACGAAAAhwAAAIgAAACJAAAAigAAAIsAAACMAAAAjQAAAI4AAACPAAAAkAAAAJEAAACSAAAAkwAAAJQAAACVAAAAlgAAAJcAAACYAAAAmQAAAJoAAACbAAAAnAAAAJ0AAACeAAAAnwAAAKAAAAChAAAAogAAAKMAAACkAAAApQAAAKYAAACnAAAA\"},\"shape\":[168],\"dtype\":\"int32\",\"order\":\"little\"}],[\"time\",{\"type\":\"ndarray\",\"array\":{\"type\":\"bytes\",\"data\":\"AADAFyedeEIAAKiGKp14QgAAkPUtnXhCAAB4ZDGdeEIAAGDTNJ14QgAASEI4nXhCAAAwsTudeEIAABggP514QgAAAI9CnXhCAADo/UWdeEIAANBsSZ14QgAAuNtMnXhCAACgSlCdeEIAAIi5U514QgAAcChXnXhCAABYl1qdeEIAAEAGXp14QgAAKHVhnXhCAAAQ5GSdeEIAAPhSaJ14QgAA4MFrnXhCAADIMG+deEIAALCfcp14QgAAmA52nXhCAACAfXmdeEIAAGjsfJ14QgAAUFuAnXhCAAA4yoOdeEIAACA5h514QgAACKiKnXhCAADwFo6deEIAANiFkZ14QgAAwPSUnXhCAACoY5ideEIAAJDSm514QgAAeEGfnXhCAABgsKKdeEIAAEgfpp14QgAAMI6pnXhCAAAY/aydeEIAAABssJ14QgAA6NqznXhCAADQSbedeEIAALi4up14QgAAoCe+nXhCAACIlsGdeEIAAHAFxZ14QgAAWHTInXhCAABA48udeEIAAChSz514QgAAEMHSnXhCAAD4L9adeEIAAOCe2Z14QgAAyA3dnXhCAACwfOCdeEIAAJjr4514QgAAgFrnnXhCAABoyeqdeEIAAFA47p14QgAAOKfxnXhCAAAgFvWdeEIAAAiF+J14QgAA8PP7nXhCAADYYv+deEIAAMDRAp54QgAAqEAGnnhCAACQrwmeeEIAAHgeDZ54QgAAYI0QnnhCAABI/BOeeEIAADBrF554QgAAGNoannhCAAAASR6eeEIAAOi3IZ54QgAA0CYlnnhCAAC4lSieeEIAAKAELJ54QgAAiHMvnnhCAABw4jKeeEIAAFhRNp54QgAAQMA5nnhCAAAoLz2eeEIAABCeQJ54QgAA+AxEnnhCAADge0eeeEIAAMjqSp54QgAAsFlOnnhCAACYyFGeeEIAAIA3VZ54QgAAaKZYnnhCAABQFVyeeEIAADiEX554QgAAIPNinnhCAAAIYmaeeEIAAPDQaZ54QgAA2D9tnnhCAADArnCeeEIAAKgddJ54QgAAkIx3nnhCAAB4+3qeeEIAAGBqfp54QgAASNmBnnhCAAAwSIWeeEIAABi3iJ54QgAAACaMnnhCAADolI+eeEIAANADk554QgAAuHKWnnhCAACg4ZmeeEIAAIhQnZ54QgAAcL+gnnhCAABYLqSeeEIAAECdp554QgAAKAyrnnhCAAAQe66eeEIAAPjpsZ54QgAA4Fi1nnhCAADIx7ieeEIAALA2vJ54QgAAmKW/nnhCAACAFMOeeEIAAGiDxp54QgAAUPLJnnhCAAA4Yc2eeEIAACDQ0J54QgAACD/UnnhCAADwrdeeeEIAANgc2554QgAAwIvennhCAACo+uGeeEIAAJBp5Z54QgAAeNjonnhCAABgR+yeeEIAAEi27554QgAAMCXznnhCAAAYlPaeeEIAAAAD+p54QgAA6HH9nnhCAADQ4ACfeEIAALhPBJ94QgAAoL4Hn3hCAACILQufeEIAAHCcDp94QgAAWAsSn3hCAABAehWfeEIAACjpGJ94QgAAEFgcn3hCAAD4xh+feEIAAOA1I594QgAAyKQmn3hCAACwEyqfeEIAAJiCLZ94QgAAgPEwn3hCAABoYDSfeEIAAFDPN594QgAAOD47n3hCAAAgrT6feEIAAAgcQp94QgAA8IpFn3hCAADY+UifeEIAAMBoTJ94QgAAqNdPn3hCAACQRlOfeEIAAHi1Vp94QgAAYCRan3hCAABIk12feEIAADACYZ94QgAAGHFkn3hC\"},\"shape\":[168],\"dtype\":\"float64\",\"order\":\"little\"}],[\"temperature_2m (\\u00b0C)\",{\"type\":\"ndarray\",\"array\":{\"type\":\"bytes\",\"data\":\"MzMzMzMzQkAzMzMzM/NAQAAAAAAAQEFAAAAAAACAQEAAAAAAAAA/QGZmZmZmZj5AAAAAAACAPkAzMzMzMzM+QAAAAAAAgD1AZmZmZmZmPUAAAAAAAIA8QDMzMzMzsztAZmZmZmZmO0BmZmZmZuY8QJqZmZmZmT1AMzMzMzMzP0CamZmZmZk/QDMzMzMzs0BAAAAAAADAQEAAAAAAAEBBQDMzMzMzc0FAzczMzMzMQUBmZmZmZuZCQJqZmZmZ2UJAmpmZmZkZQkAAAAAAAEBBQM3MzMzMjEBAzczMzMwMQEDNzMzMzEw/QDMzMzMzsz5AmpmZmZkZPkDNzMzMzEw9QAAAAAAAgDxAZmZmZmbmO0BmZmZmZmY7QDMzMzMzMztAAAAAAACAOkAAAAAAAIA7QJqZmZmZmTxAZmZmZmbmPkDNzMzMzExAQDMzMzMzM0FAMzMzMzNzQUAzMzMzM3NCQDMzMzMzM0JAAAAAAABAQ0DNzMzMzExDQAAAAAAAQENAmpmZmZmZQkCamZmZmdlDQAAAAAAAgEJAzczMzMwMQ0AAAAAAAMBCQGZmZmZmpkFAZmZmZmamQEAzMzMzM3NAQGZmZmZmZj9AAAAAAACAPkAAAAAAAAA+QJqZmZmZmT1AzczMzMxMPUCamZmZmRk+QM3MzMzMzD9AMzMzMzPzQECamZmZmRlCQGZmZmZmJkNAmpmZmZkZRECamZmZmdlEQM3MzMzMTEVAmpmZmZmZRUAzMzMzM7NFQGZmZmZmpkVAmpmZmZlZRUAzMzMzM/NDQDMzMzMzs0BAMzMzMzMzQEAAAAAAAABAQDMzMzMzsz9AMzMzMzMzQUAAAAAAAABAQJqZmZmZWUBAzczMzMzMP0AzMzMzMzM/QAAAAAAAgD5AAAAAAAAAPkCamZmZmZk+QJqZmZmZGUBAmpmZmZkZQUCamZmZmRlCQDMzMzMzM0NAzczMzMwMREAAAAAAAMBEQAAAAAAAQEVAzczMzMyMRUAzMzMzM7NFQJqZmZmZmUVAMzMzMzMzRUBmZmZmZuZDQM3MzMzMDENAzczMzMxMQkBmZmZmZuZBQGZmZmZmpkFAzczMzMzMQUAzMzMzM/NAQGZmZmZmZkBAAAAAAACAP0CamZmZmZk+QJqZmZmZmT5AMzMzMzMzPkBmZmZmZmY+QJqZmZmZmT9AMzMzMzNzQEDNzMzMzMxBQAAAAAAAAENAZmZmZmbmQ0BmZmZmZqZEQGZmZmZmJkVAZmZmZmZmRUAzMzMzM3NFQM3MzMzMTEVAZmZmZmbmREBmZmZmZiZEQJqZmZmZGUNAAAAAAABAQkDNzMzMzMxBQM3MzMzMjEFAzczMzMxMQUBmZmZmZiZBQM3MzMzMDEFAmpmZmZnZQECamZmZmVlAQGZmZmZmZj9AzczMzMzMPkAzMzMzMzM/QGZmZmZmJkBAMzMzMzPzQEAzMzMzMzNCQAAAAAAAwENAZmZmZmbmREDNzMzMzIxFQM3MzMzMzEVAZmZmZmbmRUBmZmZmZuZFQDMzMzMzs0VAAAAAAABARUCamZmZmVlEQGZmZmZmJkNAzczMzMxMQkAAAAAAAEBCQAAAAAAAgEJAAAAAAACAQkAzMzMzM/NBQJqZmZmZGUFAZmZmZmZmQEAzMzMzM7M/QM3MzMzMzD5AmpmZmZmZPkAzMzMzM7M/QM3MzMzMzEBAzczMzMzMQUDNzMzMzMxCQGZmZmZm5kNAMzMzMzOzREAAAAAAAEBFQM3MzMzMjEVAZmZmZmamRUBmZmZmZqZFQDMzMzMzc0VA\"},\"shape\":[168],\"dtype\":\"float64\",\"order\":\"little\"}],[\"apparent_temperature (\\u00b0C)\",{\"type\":\"ndarray\",\"array\":{\"type\":\"bytes\",\"data\":\"ZmZmZmbmQkAAAAAAAEBCQGZmZmZmJkJAZmZmZmZmQUCamZmZmRlAQAAAAAAAwEBAMzMzMzMzQEBmZmZmZuY/QDMzMzMzMz9AMzMzMzMzP0DNzMzMzMw+QGZmZmZmZj5AMzMzMzMzPUDNzMzMzEw/QDMzMzMzM0BAmpmZmZkZQUAAAAAAAEBBQAAAAAAAwEJAAAAAAAAAQkBmZmZmZuZCQGZmZmZmZkJAZmZmZmZmQkDNzMzMzIxDQM3MzMzMTENAzczMzMwMQkBmZmZmZiZBQAAAAAAAgEBAmpmZmZkZP0DNzMzMzEw+QJqZmZmZGT5AAAAAAACAPEDNzMzMzMw8QAAAAAAAgDxAAAAAAAAAPEBmZmZmZuY8QJqZmZmZmTxAAAAAAACAPEAAAAAAAAA9QM3MzMzMTD1AmpmZmZmZP0CamZmZmdlAQAAAAAAAwEFAMzMzMzMzQUAzMzMzMzNCQJqZmZmZWUFAmpmZmZnZQkAAAAAAAIBCQGZmZmZmZkJAZmZmZmbmQUCamZmZmZlCQM3MzMzMTEJAzczMzMyMQUAzMzMzM7NAQGZmZmZmZkFAZmZmZmYmQECamZmZmRk/QGZmZmZm5j1AAAAAAAAAPkBmZmZmZmY+QGZmZmZmZj5AMzMzMzOzPUAzMzMzMzM+QM3MzMzMTD9AzczMzMyMQEAzMzMzM/NBQM3MzMzMTENAzczMzMyMREAAAAAAAIBFQM3MzMzMDEZAzczMzMwMRkBmZmZmZqZFQJqZmZmZGUVAmpmZmZmZREDNzMzMzExDQGZmZmZm5j5AZmZmZmbmQEBmZmZmZmY/QDMzMzMzs0BAMzMzMzOzQUAAAAAAAIA/QM3MzMzMTEBAAAAAAACAP0AzMzMzMzM/QM3MzMzMzD5AmpmZmZkZPkBmZmZmZmY+QDMzMzMzMz9AMzMzMzNzQEAAAAAAAMBBQGZmZmZmJkNAzczMzMwMREDNzMzMzMxEQDMzMzMzM0VAMzMzMzPzREBmZmZmZmZEQM3MzMzMzENAZmZmZmZmQ0CamZmZmRlCQGZmZmZmZkFAmpmZmZkZQUBmZmZmZqZAQM3MzMzMjEBAzczMzMwMQECamZmZmRk/QGZmZmZmZj5AmpmZmZkZPkCamZmZmZk9QDMzMzMzsz1AZmZmZmZmPUBmZmZmZmY9QM3MzMzMTD5AAAAAAACAP0AAAAAAAEBBQJqZmZmZ2UJAmpmZmZnZQ0AzMzMzM7NEQGZmZmZmJkVAAAAAAABARUAzMzMzM/NEQDMzMzMzc0RAmpmZmZkZREAAAAAAAEBDQDMzMzMzM0JAZmZmZmZmQUAAAAAAAABBQM3MzMzMzEBAZmZmZmamQEAAAAAAAIBAQAAAAAAAgEBAAAAAAACAQEBmZmZmZmZAQM3MzMzMTEBAmpmZmZlZQEAAAAAAAIBAQDMzMzMz80BAAAAAAACAQUCamZmZmZlCQDMzMzMzM0RAMzMzMzOzRUCamZmZmVlGQJqZmZmZWUZAzczMzMwMRkCamZmZmdlFQM3MzMzMTEVAAAAAAAAARUBmZmZmZiZEQDMzMzMz80JAZmZmZmYmQkAAAAAAAABCQGZmZmZmJkJAAAAAAAAAQkCamZmZmVlBQM3MzMzMTEBAMzMzMzMzP0AAAAAAAIA+QDMzMzMzMz5AzczMzMxMPkBmZmZmZmY/QAAAAAAAgEBAZmZmZmZmQUAAAAAAAIBCQAAAAAAAAERAmpmZmZkZRUBmZmZmZqZFQJqZmZmZ2UVAZmZmZmamRUCamZmZmVlFQAAAAAAAwERA\"},\"shape\":[168],\"dtype\":\"float64\",\"order\":\"little\"}]]}}},\"view\":{\"type\":\"object\",\"name\":\"CDSView\",\"id\":\"p2732\",\"attributes\":{\"filter\":{\"type\":\"object\",\"name\":\"AllIndices\",\"id\":\"p2733\"}}},\"glyph\":{\"type\":\"object\",\"name\":\"Line\",\"id\":\"p2728\",\"attributes\":{\"x\":{\"type\":\"field\",\"field\":\"time\"},\"y\":{\"type\":\"field\",\"field\":\"temperature_2m (\\u00b0C)\"},\"line_color\":\"firebrick\"}},\"nonselection_glyph\":{\"type\":\"object\",\"name\":\"Line\",\"id\":\"p2729\",\"attributes\":{\"x\":{\"type\":\"field\",\"field\":\"time\"},\"y\":{\"type\":\"field\",\"field\":\"temperature_2m (\\u00b0C)\"},\"line_color\":\"firebrick\",\"line_alpha\":0.1}},\"muted_glyph\":{\"type\":\"object\",\"name\":\"Line\",\"id\":\"p2730\",\"attributes\":{\"x\":{\"type\":\"field\",\"field\":\"time\"},\"y\":{\"type\":\"field\",\"field\":\"temperature_2m (\\u00b0C)\"},\"line_color\":\"firebrick\",\"line_alpha\":0.2}}}},{\"type\":\"object\",\"name\":\"GlyphRenderer\",\"id\":\"p2742\",\"attributes\":{\"data_source\":{\"id\":\"p2681\"},\"view\":{\"type\":\"object\",\"name\":\"CDSView\",\"id\":\"p2743\",\"attributes\":{\"filter\":{\"type\":\"object\",\"name\":\"AllIndices\",\"id\":\"p2744\"}}},\"glyph\":{\"type\":\"object\",\"name\":\"Line\",\"id\":\"p2739\",\"attributes\":{\"x\":{\"type\":\"field\",\"field\":\"time\"},\"y\":{\"type\":\"field\",\"field\":\"apparent_temperature (\\u00b0C)\"},\"line_color\":\"#1f77b4\"}},\"nonselection_glyph\":{\"type\":\"object\",\"name\":\"Line\",\"id\":\"p2740\",\"attributes\":{\"x\":{\"type\":\"field\",\"field\":\"time\"},\"y\":{\"type\":\"field\",\"field\":\"apparent_temperature (\\u00b0C)\"},\"line_color\":\"#1f77b4\",\"line_alpha\":0.1}},\"muted_glyph\":{\"type\":\"object\",\"name\":\"Line\",\"id\":\"p2741\",\"attributes\":{\"x\":{\"type\":\"field\",\"field\":\"time\"},\"y\":{\"type\":\"field\",\"field\":\"apparent_temperature (\\u00b0C)\"},\"line_color\":\"#1f77b4\",\"line_alpha\":0.2}}}}],\"toolbar\":{\"type\":\"object\",\"name\":\"Toolbar\",\"id\":\"p2693\",\"attributes\":{\"tools\":[{\"type\":\"object\",\"name\":\"PanTool\",\"id\":\"p2718\"},{\"type\":\"object\",\"name\":\"WheelZoomTool\",\"id\":\"p2719\"},{\"type\":\"object\",\"name\":\"BoxZoomTool\",\"id\":\"p2720\",\"attributes\":{\"overlay\":{\"type\":\"object\",\"name\":\"BoxAnnotation\",\"id\":\"p2721\",\"attributes\":{\"syncable\":false,\"level\":\"overlay\",\"visible\":false,\"left_units\":\"canvas\",\"right_units\":\"canvas\",\"bottom_units\":\"canvas\",\"top_units\":\"canvas\",\"line_color\":\"black\",\"line_alpha\":1.0,\"line_width\":2,\"line_dash\":[4,4],\"fill_color\":\"lightgrey\",\"fill_alpha\":0.5}}}},{\"type\":\"object\",\"name\":\"SaveTool\",\"id\":\"p2722\"},{\"type\":\"object\",\"name\":\"ResetTool\",\"id\":\"p2723\"},{\"type\":\"object\",\"name\":\"HelpTool\",\"id\":\"p2724\"},{\"type\":\"object\",\"name\":\"HoverTool\",\"id\":\"p2746\",\"attributes\":{\"renderers\":\"auto\",\"tooltips\":[[\"time\",\"@time{%Y-%m-%d %H:%M}\"],[\"temp \\u00b0C\",\"@{temperature_2m (\\u00b0C)}{0.0}\"],[\"feels like\",\"@{apparent_temperature (\\u00b0C)}{0.0}\"]],\"formatters\":{\"type\":\"map\",\"entries\":[[\"@time\",\"datetime\"]]}}}]}},\"left\":[{\"type\":\"object\",\"name\":\"LinearAxis\",\"id\":\"p2713\",\"attributes\":{\"ticker\":{\"type\":\"object\",\"name\":\"BasicTicker\",\"id\":\"p2714\",\"attributes\":{\"mantissas\":[1,2,5]}},\"formatter\":{\"type\":\"object\",\"name\":\"BasicTickFormatter\",\"id\":\"p2715\"},\"axis_label\":\"Temperature (\\u00b0C)\",\"major_label_policy\":{\"type\":\"object\",\"name\":\"AllLabels\",\"id\":\"p2716\"}}}],\"below\":[{\"type\":\"object\",\"name\":\"DatetimeAxis\",\"id\":\"p2696\",\"attributes\":{\"ticker\":{\"type\":\"object\",\"name\":\"DatetimeTicker\",\"id\":\"p2697\",\"attributes\":{\"num_minor_ticks\":5,\"tickers\":[{\"type\":\"object\",\"name\":\"AdaptiveTicker\",\"id\":\"p2698\",\"attributes\":{\"num_minor_ticks\":0,\"mantissas\":[1,2,5],\"max_interval\":500.0}},{\"type\":\"object\",\"name\":\"AdaptiveTicker\",\"id\":\"p2699\",\"attributes\":{\"num_minor_ticks\":0,\"base\":60,\"mantissas\":[1,2,5,10,15,20,30],\"min_interval\":1000.0,\"max_interval\":1800000.0}},{\"type\":\"object\",\"name\":\"AdaptiveTicker\",\"id\":\"p2700\",\"attributes\":{\"num_minor_ticks\":0,\"base\":24,\"mantissas\":[1,2,4,6,8,12],\"min_interval\":3600000.0,\"max_interval\":43200000.0}},{\"type\":\"object\",\"name\":\"DaysTicker\",\"id\":\"p2701\",\"attributes\":{\"days\":[1,2,3,4,5,6,7,8,9,10,11,12,13,14,15,16,17,18,19,20,21,22,23,24,25,26,27,28,29,30,31]}},{\"type\":\"object\",\"name\":\"DaysTicker\",\"id\":\"p2702\",\"attributes\":{\"days\":[1,4,7,10,13,16,19,22,25,28]}},{\"type\":\"object\",\"name\":\"DaysTicker\",\"id\":\"p2703\",\"attributes\":{\"days\":[1,8,15,22]}},{\"type\":\"object\",\"name\":\"DaysTicker\",\"id\":\"p2704\",\"attributes\":{\"days\":[1,15]}},{\"type\":\"object\",\"name\":\"MonthsTicker\",\"id\":\"p2705\",\"attributes\":{\"months\":[0,1,2,3,4,5,6,7,8,9,10,11]}},{\"type\":\"object\",\"name\":\"MonthsTicker\",\"id\":\"p2706\",\"attributes\":{\"months\":[0,2,4,6,8,10]}},{\"type\":\"object\",\"name\":\"MonthsTicker\",\"id\":\"p2707\",\"attributes\":{\"months\":[0,4,8]}},{\"type\":\"object\",\"name\":\"MonthsTicker\",\"id\":\"p2708\",\"attributes\":{\"months\":[0,6]}},{\"type\":\"object\",\"name\":\"YearsTicker\",\"id\":\"p2709\"}]}},\"formatter\":{\"type\":\"object\",\"name\":\"DatetimeTickFormatter\",\"id\":\"p2710\"},\"axis_label\":\"Date\",\"major_label_policy\":{\"type\":\"object\",\"name\":\"AllLabels\",\"id\":\"p2711\"}}}],\"center\":[{\"type\":\"object\",\"name\":\"Grid\",\"id\":\"p2712\",\"attributes\":{\"axis\":{\"id\":\"p2696\"}}},{\"type\":\"object\",\"name\":\"Grid\",\"id\":\"p2717\",\"attributes\":{\"dimension\":1,\"axis\":{\"id\":\"p2713\"}}},{\"type\":\"object\",\"name\":\"Legend\",\"id\":\"p2734\",\"attributes\":{\"items\":[{\"type\":\"object\",\"name\":\"LegendItem\",\"id\":\"p2735\",\"attributes\":{\"label\":{\"type\":\"value\",\"value\":\"temp\"},\"renderers\":[{\"id\":\"p2731\"}]}},{\"type\":\"object\",\"name\":\"LegendItem\",\"id\":\"p2745\",\"attributes\":{\"label\":{\"type\":\"value\",\"value\":\"apparent temp\"},\"renderers\":[{\"id\":\"p2742\"}]}}]}}]}}]}};\n  const render_items = [{\"docid\":\"590381c9-395b-45a3-b834-f733c62eb6fc\",\"roots\":{\"p2684\":\"a8867e00-913b-4391-99f0-2b1f78879fc8\"},\"root_ids\":[\"p2684\"]}];\n  root.Bokeh.embed.embed_items_notebook(docs_json, render_items);\n  }\n  if (root.Bokeh !== undefined) {\n    embed_document(root);\n  } else {\n    let attempts = 0;\n    const timer = setInterval(function(root) {\n      if (root.Bokeh !== undefined) {\n        clearInterval(timer);\n        embed_document(root);\n      } else {\n        attempts++;\n        if (attempts > 100) {\n          clearInterval(timer);\n          console.log(\"Bokeh: ERROR: Unable to run BokehJS code because BokehJS library is missing\");\n        }\n      }\n    }, 10, root)\n  }\n})(window);",
      "application/vnd.bokehjs_exec.v0+json": ""
     },
     "metadata": {
      "application/vnd.bokehjs_exec.v0+json": {
       "id": "p2684"
      }
     },
     "output_type": "display_data"
    }
   ],
   "source": [
    "# Get weather forecast data\n",
    "df = pd.read_csv(\n",
    "    'https://api.open-meteo.com/v1/forecast?'\n",
    "    'latitude=33.2362'\n",
    "    '&longitude=-96.8011'\n",
    "    '&hourly=temperature_2m,'\n",
    "    'apparent_temperature'\n",
    "    '&format=csv', skiprows=2, parse_dates=True)\n",
    "\n",
    "pdb.set_trace()\n",
    "# or, ...\n",
    "# breakpoint()  # doesn't work in VS Code, Python 3.11.3\n",
    "\n",
    "# Convert to datetime for proper representation in the plot\n",
    "df.time = df.time.astype('datetime64[ns]')\n",
    "\n",
    "source = ColumnDataSource(data=df)\n",
    "\n",
    "# Plot data\n",
    "p = figure(\n",
    "        title='Temperature forecast for Prosper, TX',\n",
    "        x_axis_label='Date', y_axis_label='Temperature (°C)',\n",
    "        x_axis_type='datetime')\n",
    "\n",
    "p.line(x='time', y='temperature_2m (°C)', legend_label='temp',\n",
    "       color='firebrick', source=source)\n",
    "p.line(x='time', y='apparent_temperature (°C)', legend_label='apparent temp',\n",
    "       source=source)\n",
    "\n",
    "hover = HoverTool()\n",
    "hover.tooltips = [\n",
    "    ('time', '@time{%Y-%m-%d %H:%M}'),\n",
    "    ('temp °C', '@{temperature_2m (°C)}{0.0}'),\n",
    "    ('feels like', '@{apparent_temperature (°C)}{0.0}')\n",
    "]\n",
    "\n",
    "hover.formatters = {'@time': 'datetime'}\n",
    "\n",
    "p.add_tools(hover)\n",
    "\n",
    "show(p)"
   ]
  }
 ],
 "metadata": {
  "kernelspec": {
   "display_name": "ml",
   "language": "python",
   "name": "python3"
  },
  "language_info": {
   "codemirror_mode": {
    "name": "ipython",
    "version": 3
   },
   "file_extension": ".py",
   "mimetype": "text/x-python",
   "name": "python",
   "nbconvert_exporter": "python",
   "pygments_lexer": "ipython3",
   "version": "3.11.3"
  },
  "orig_nbformat": 4
 },
 "nbformat": 4,
 "nbformat_minor": 2
}
