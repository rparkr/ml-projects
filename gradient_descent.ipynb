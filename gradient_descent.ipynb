{
 "cells": [
  {
   "attachments": {},
   "cell_type": "markdown",
   "metadata": {},
   "source": [
    "# Gradient descent for linear models\n",
    "In this notebook, I implement a method for performing gradient descent to estimate the parameters for a linear regression model using mean squared error (MSE) as the cost function.\n",
    "\n",
    "Author: [Ryan Parker](https://github.com/rparkr)"
   ]
  },
  {
   "attachments": {},
   "cell_type": "markdown",
   "metadata": {},
   "source": [
    "# Setup: library imports"
   ]
  },
  {
   "cell_type": "code",
   "execution_count": 1,
   "metadata": {},
   "outputs": [],
   "source": [
    "import matplotlib.pyplot as plt  # general purpose plotting\n",
    "import numpy as np  # numerical computation on arrays\n",
    "from tqdm import tqdm  # progress bars\n",
    "from sklearn.datasets import make_regression  # dataset generation"
   ]
  },
  {
   "attachments": {},
   "cell_type": "markdown",
   "metadata": {},
   "source": [
    "# Gradient descent algorithm\n",
    "This implementation uses the partial derivatives of:\n",
    "- the weight vector $w$\n",
    "- the bias $b$\n",
    "\n",
    "with respect to the loss function (mean squared error), which is defined as:\n",
    "\n",
    "$$\\frac{1}{2m} \\sum_{i=0}^{m} (\\hat{y}_i - y_i)^{2}$$\n",
    "\n",
    "where:\n",
    "- $m$ = the number of training samples\n",
    "- $y$ = the target array\n",
    "- $\\hat{y}$ = the model's prediction, calculated as $w•x + b$ (the dot product of weights with the inputs plus the bias)\n",
    " - $w$ = the weight vector, or the coefficients of each of the features (input columns)\n",
    " - $x$ = the set of inputs\n",
    " - $b$ = the bias\n",
    "\n",
    "> Note: the actual mean-squared error would divide the sum by the number of samples, $\\frac{1}{m}$, but I scale the mean-squared error by a factor of 1/2 (that is: $\\frac{1}{2m}$) so the $2$ cancels out when taking the partial derivative. See the function below.\n",
    "\n",
    "The partial derivates of the loss function (above) are:\n",
    "\n",
    "**Partial derivative of the loss function $f$ with respect to the weights $w$:**  \n",
    "$$\\frac{\\partial f}{\\partial w} = \\frac{1}{m}  \\sum_{i=0}^{m} (\\hat{y}_i - y_i) \\  x_i $$\n",
    "\n",
    "**Partial derivative of the loss function $f$ with respect to the bias $b$:**  \n",
    "$$\\frac{\\partial f}{\\partial b} = \\frac{1}{m}  \\sum_{i=0}^{m} (\\hat{y}_i - y_i)$$\n",
    "\n",
    "In the cell below, I implement all three of those functions using vectorized operations in NumPy."
   ]
  },
  {
   "cell_type": "code",
   "execution_count": 2,
   "metadata": {},
   "outputs": [],
   "source": [
    "def compute_loss(x_input, y_target, weights, bias):\n",
    "    '''Return the mean squared error based on an input, target, coefficients, and bias.\n",
    "    \n",
    "    Parameters:\n",
    "    ----------\n",
    "    x_input: array of shape (m_samples, n_features)\n",
    "        Inputs to the linear regression model.\n",
    "    y_target: array of shape (m_samples,)\n",
    "        The targets to predict.\n",
    "    weights: array of shape (n_features,)\n",
    "        The coefficients for the input features.\n",
    "    bias: float\n",
    "        An adjustment factor, the _b_ in y = wx + b.\n",
    "\n",
    "    Returns:\n",
    "    -------\n",
    "    loss: float\n",
    "        A measure of the average distance between predicted and target values.\n",
    "    '''\n",
    "    num_samples = x_input.shape[0]\n",
    "    y_hat = np.dot(x_input, weights) + bias\n",
    "    return np.sum((y_hat - y_target) ** 2) / (2 * num_samples)  # Dividing by 2m is the same as multiplying by (1/2m)\n",
    "\n",
    "\n",
    "def gradient_descent(x_input, y_target, weights, bias, alpha=0.01):\n",
    "    '''Compute the gradient and take a step in the negative gradient (scaled by alpha).\n",
    "    \n",
    "    Parameters:\n",
    "    ----------\n",
    "    x_input: array of shape (m_samples, n_features)\n",
    "        Inputs to the linear regression model.\n",
    "    y_target: array of shape (m_samples,)\n",
    "        The targets to predict.\n",
    "    weights: array of shape (n_features,)\n",
    "        The coefficients for the input features.\n",
    "    bias: float\n",
    "        An adjustment factor, the `b` in y = wx + b.\n",
    "    alpha: float, default = 0.01\n",
    "        The learning rate that controls the step size for the gradient descent step.\n",
    "    \n",
    "    Returns:\n",
    "    -------\n",
    "    (weights, bias) tuple with the new weights and bias after taking a step\n",
    "    in the direction of the negative gradient.\n",
    "    '''\n",
    "    num_samples = x_input.shape[0]\n",
    "    y_hat = np.dot(x_input, weights) + bias\n",
    "    error = y_hat - y_target\n",
    "    # These are the gradients (derivative of function F with respect to weights W or bias B)\n",
    "    # I transpose (.T) the x_input array to have shape (n_features, m_samples)\n",
    "    # so it produces an output of shape (n_features,) after a dot product with the error.\n",
    "    df_dw = (1 / num_samples) * np.dot(x_input.T, error)\n",
    "    df_db = (1 / num_samples) * np.sum(error)\n",
    "    new_w = weights - (alpha * df_dw)\n",
    "    new_b = bias - (alpha * df_db)\n",
    "    return new_w, new_b"
   ]
  },
  {
   "cell_type": "markdown",
   "metadata": {},
   "source": [
    "# Sample data set"
   ]
  },
  {
   "cell_type": "code",
   "execution_count": 3,
   "metadata": {},
   "outputs": [],
   "source": [
    "# Set a value for the model's bias\n",
    "rng = np.random.default_rng(seed=0)\n",
    "b = rng.random()  # returns a scalar float in the range [0, 1)\n",
    "\n",
    "# Create arrays for the inputs (X) and target (y)\n",
    "# Coefs holds the coefficients used for each feature (i.e., each column in X)\n",
    "# that generated the data.\n",
    "X, y, coefs = make_regression(n_samples=10_000, n_features=10, bias=b, coef=True)"
   ]
  },
  {
   "attachments": {},
   "cell_type": "markdown",
   "metadata": {},
   "source": [
    "# Optimization\n",
    "Optimize a linear regression function through gradient descent."
   ]
  },
  {
   "cell_type": "code",
   "execution_count": 4,
   "metadata": {},
   "outputs": [
    {
     "name": "stdout",
     "output_type": "stream",
     "text": [
      "step   100/1,000 | loss = 0.00001\n",
      "Early stopping at step 113/1,000\n",
      "loss = 0.00000\n",
      "==================================================\n",
      "Expected parameters:\n",
      "[17.605 19.389 67.54  14.705 36.536 63.485 19.429 31.579  3.191  5.632]\n",
      "Estimated parameters:\n",
      "[17.604 19.389 67.539 14.705 36.536 63.485 19.429 31.578  3.192  5.632]\n",
      "Difference:\n",
      "[-0.    -0.    -0.001  0.    -0.    -0.001 -0.    -0.     0.     0.   ]\n",
      "--------------------------------------------------\n",
      "Expected bias:  0.637\n",
      "Estimated bias: 0.637\n"
     ]
    }
   ],
   "source": [
    "# Initialize the weights and bias values\n",
    "weights = rng.random(size=X.shape[1])\n",
    "bias = rng.random()\n",
    "\n",
    "# Set the learning rate\n",
    "alpha = 0.1\n",
    "\n",
    "num_steps = 1_000\n",
    "num_chars = len(f\"{num_steps:,.0f}\")  # for aligning text when printed\n",
    "early_stopping_threshold = 0.0000001  # end training if loss improves by less than this amount\n",
    "loss_history = [compute_loss(X, y, weights, bias)]\n",
    "for step in range(num_steps):\n",
    "    weights, bias = gradient_descent(X, y, weights, bias, alpha)\n",
    "    loss = compute_loss(X, y, weights, bias)\n",
    "    if loss_history[-1] - loss < early_stopping_threshold:\n",
    "        print(f\"Early stopping at step {'{:,.0f}'.format(step + 1)}/{num_steps:,.0f}\")\n",
    "        print(f\"loss = {loss:,.5f}\")\n",
    "        break\n",
    "    loss_history.append(loss)\n",
    "    # Print the loss 10 times during training\n",
    "    if (step + 1) % (num_steps // 10) == 0:\n",
    "        print(\n",
    "            f\"step {'{:,.0f}'.format(step + 1).rjust(num_chars)}/{num_steps:,.0f}\"\n",
    "            f\" | loss = {loss:,.5f}\"\n",
    "        )\n",
    "\n",
    "# Show how well the model fit the dataset\n",
    "print('=' * 50)\n",
    "print(f\"Expected parameters:\\n{coefs.round(3)}\")\n",
    "print(f\"Estimated parameters:\\n{weights.round(3)}\")\n",
    "print(f\"Difference:\\n{(weights - coefs).round(3)}\")\n",
    "print('-' * 50)\n",
    "print(f\"Expected bias:  {b:.3f}\")\n",
    "print(f\"Estimated bias: {bias:.3f}\")"
   ]
  },
  {
   "attachments": {},
   "cell_type": "markdown",
   "metadata": {},
   "source": [
    "## Track progress\n",
    "This section uses the `tqdm` library to display a progress bar during optimization."
   ]
  },
  {
   "cell_type": "code",
   "execution_count": 5,
   "metadata": {},
   "outputs": [
    {
     "name": "stderr",
     "output_type": "stream",
     "text": [
      "loss: 0.000:  11%|█         | 112/1000 [00:00<00:04, 200.83it/s] "
     ]
    },
    {
     "name": "stdout",
     "output_type": "stream",
     "text": [
      "Early stopping at step 113/1,000\n",
      "loss = 0.00000\n",
      "==================================================\n",
      "Expected parameters:\n",
      "[17.605 19.389 67.54  14.705 36.536 63.485 19.429 31.579  3.191  5.632]\n",
      "Estimated parameters:\n",
      "[17.604 19.389 67.539 14.705 36.536 63.485 19.429 31.578  3.192  5.632]\n",
      "Difference:\n",
      "[-0.    -0.    -0.001 -0.    -0.    -0.001 -0.    -0.     0.     0.   ]\n",
      "--------------------------------------------------\n",
      "Expected bias:  0.637\n",
      "Estimated bias: 0.637\n"
     ]
    },
    {
     "name": "stderr",
     "output_type": "stream",
     "text": [
      "\n"
     ]
    }
   ],
   "source": [
    "# Initialize the weights and bias values\n",
    "weights = rng.random(size=X.shape[1])\n",
    "bias = rng.random()\n",
    "\n",
    "# Set the learning rate\n",
    "alpha = 0.1\n",
    "\n",
    "num_steps = 1_000\n",
    "pbar = tqdm(range(num_steps))\n",
    "early_stopping_threshold = 0.0000001  # end training if loss improves by less than this amount\n",
    "loss_history = [compute_loss(X, y, weights, bias)]\n",
    "\n",
    "for step in pbar:\n",
    "    weights, bias = gradient_descent(X, y, weights, bias, alpha)\n",
    "    loss = compute_loss(X, y, weights, bias)\n",
    "    pbar.set_description(f\"loss: {loss:,.3f}\")\n",
    "    if loss_history[-1] - loss < early_stopping_threshold:\n",
    "        print(f\"Early stopping at step {'{:,.0f}'.format(step + 1)}/{num_steps:,.0f}\")\n",
    "        print(f\"loss = {loss:,.5f}\")\n",
    "        break\n",
    "    loss_history.append(loss)\n",
    "\n",
    "# Show how well the model fit the dataset\n",
    "print('=' * 50)\n",
    "print(f\"Expected parameters:\\n{coefs.round(3)}\")\n",
    "print(f\"Estimated parameters:\\n{weights.round(3)}\")\n",
    "print(f\"Difference:\\n{(weights - coefs).round(3)}\")\n",
    "print('-' * 50)\n",
    "print(f\"Expected bias:  {b:.3f}\")\n",
    "print(f\"Estimated bias: {bias:.3f}\")"
   ]
  },
  {
   "attachments": {},
   "cell_type": "markdown",
   "metadata": {},
   "source": [
    "## Plot learning curve"
   ]
  },
  {
   "cell_type": "code",
   "execution_count": 6,
   "metadata": {},
   "outputs": [
    {
     "data": {
      "image/png": "[encoded data removed]",
      "text/plain": [
       "<Figure size 640x480 with 1 Axes>"
      ]
     },
     "metadata": {},
     "output_type": "display_data"
    }
   ],
   "source": [
    "fig, ax = plt.subplots()\n",
    "ax.scatter(x=list(range(len(loss_history))), y=loss_history)\n",
    "ax.set_ylabel('loss')\n",
    "ax.set_xlabel('step')\n",
    "ax.set_title('Learning curve')\n",
    "plt.show()"
   ]
  }
 ],
 "metadata": {
  "kernelspec": {
   "display_name": "ml",
   "language": "python",
   "name": "python3"
  },
  "language_info": {
   "codemirror_mode": {
    "name": "ipython",
    "version": 3
   },
   "file_extension": ".py",
   "mimetype": "text/x-python",
   "name": "python",
   "nbconvert_exporter": "python",
   "pygments_lexer": "ipython3",
   "version": "3.9.13"
  },
  "orig_nbformat": 4,
  "vscode": {
   "interpreter": {
    "hash": "7a1d72d1d2bd69df5fbb242d8d66be7c2c6ff0c2599bcae97545e6959cba1f2a"
   }
  }
 },
 "nbformat": 4,
 "nbformat_minor": 2
}
